{
 "cells": [
  {
   "cell_type": "code",
   "execution_count": 4,
   "metadata": {},
   "outputs": [
    {
     "name": "stderr",
     "output_type": "stream",
     "text": [
      "/home/raj/anaconda2/envs/htkProject/lib/python2.7/site-packages/h5py/__init__.py:36: FutureWarning: Conversion of the second argument of issubdtype from `float` to `np.floating` is deprecated. In future, it will be treated as `np.float64 == np.dtype(float).type`.\n",
      "  from ._conv import register_converters as _register_converters\n"
     ]
    }
   ],
   "source": [
    "import h5py"
   ]
  },
  {
   "cell_type": "code",
   "execution_count": 5,
   "metadata": {},
   "outputs": [],
   "source": [
    "f=h5py.File('TCGAopt','r')\n",
    "dset=f.keys()"
   ]
  },
  {
   "cell_type": "code",
   "execution_count": 13,
   "metadata": {},
   "outputs": [
    {
     "data": {
      "text/plain": [
       "u'features'"
      ]
     },
     "execution_count": 13,
     "metadata": {},
     "output_type": "execute_result"
    }
   ],
   "source": [
    "dset[0]"
   ]
  },
  {
   "cell_type": "code",
   "execution_count": 14,
   "metadata": {},
   "outputs": [
    {
     "data": {
      "text/plain": [
       "u'x_centroid'"
      ]
     },
     "execution_count": 14,
     "metadata": {},
     "output_type": "execute_result"
    }
   ],
   "source": [
    "dset[1]"
   ]
  },
  {
   "cell_type": "code",
   "execution_count": 15,
   "metadata": {},
   "outputs": [
    {
     "data": {
      "text/plain": [
       "u'y_centroid'"
      ]
     },
     "execution_count": 15,
     "metadata": {},
     "output_type": "execute_result"
    }
   ],
   "source": [
    "dset[2]"
   ]
  },
  {
   "cell_type": "code",
   "execution_count": 21,
   "metadata": {},
   "outputs": [],
   "source": [
    "import numpy as np"
   ]
  },
  {
   "cell_type": "code",
   "execution_count": 22,
   "metadata": {},
   "outputs": [
    {
     "data": {
      "text/plain": [
       "<HDF5 dataset \"features\": shape (2891, 32, 32, 3), type \"<f4\">"
      ]
     },
     "execution_count": 22,
     "metadata": {},
     "output_type": "execute_result"
    }
   ],
   "source": [
    "n1=f.get('features')\n",
    "n1"
   ]
  },
  {
   "cell_type": "code",
   "execution_count": 23,
   "metadata": {},
   "outputs": [
    {
     "data": {
      "text/plain": [
       "(2891, 32, 32, 3)"
      ]
     },
     "execution_count": 23,
     "metadata": {},
     "output_type": "execute_result"
    }
   ],
   "source": [
    "n1=np.array(n1)\n",
    "n1.shape"
   ]
  },
  {
   "cell_type": "code",
   "execution_count": 30,
   "metadata": {},
   "outputs": [
    {
     "name": "stdout",
     "output_type": "stream",
     "text": [
      "<type 'numpy.ndarray'>\n"
     ]
    }
   ],
   "source": [
    "print(type(n1))"
   ]
  },
  {
   "cell_type": "code",
   "execution_count": 31,
   "metadata": {},
   "outputs": [
    {
     "name": "stdout",
     "output_type": "stream",
     "text": [
      "[[[250. 213. 242.]\n",
      "  [250. 213. 241.]\n",
      "  [249. 212. 241.]\n",
      "  ...\n",
      "  [248. 212. 240.]\n",
      "  [248. 212. 243.]\n",
      "  [248. 212. 243.]]\n",
      "\n",
      " [[250. 213. 243.]\n",
      "  [249. 213. 243.]\n",
      "  [249. 213. 243.]\n",
      "  ...\n",
      "  [249. 212. 241.]\n",
      "  [249. 212. 243.]\n",
      "  [248. 212. 243.]]\n",
      "\n",
      " [[250. 213. 243.]\n",
      "  [249. 214. 243.]\n",
      "  [249. 214. 242.]\n",
      "  ...\n",
      "  [249. 212. 242.]\n",
      "  [249. 212. 244.]\n",
      "  [249. 212. 244.]]\n",
      "\n",
      " ...\n",
      "\n",
      " [[249. 214. 242.]\n",
      "  [249. 213. 242.]\n",
      "  [249. 213. 242.]\n",
      "  ...\n",
      "  [249. 213. 241.]\n",
      "  [249. 213. 241.]\n",
      "  [249. 213. 242.]]\n",
      "\n",
      " [[249. 212. 244.]\n",
      "  [250. 212. 244.]\n",
      "  [250. 214. 244.]\n",
      "  ...\n",
      "  [249. 213. 241.]\n",
      "  [249. 213. 241.]\n",
      "  [249. 213. 242.]]\n",
      "\n",
      " [[248. 213. 242.]\n",
      "  [250. 213. 241.]\n",
      "  [249. 212. 241.]\n",
      "  ...\n",
      "  [249. 213. 242.]\n",
      "  [249. 213. 242.]\n",
      "  [248. 213. 242.]]]\n"
     ]
    }
   ],
   "source": [
    "print(n1[2])"
   ]
  },
  {
   "cell_type": "code",
   "execution_count": 32,
   "metadata": {},
   "outputs": [
    {
     "name": "stdout",
     "output_type": "stream",
     "text": [
      "[[[248. 212. 242.]\n",
      "  [248. 212. 243.]\n",
      "  [248. 212. 243.]\n",
      "  ...\n",
      "  [249. 213. 241.]\n",
      "  [249. 213. 239.]\n",
      "  [249. 213. 242.]]\n",
      "\n",
      " [[247. 212. 243.]\n",
      "  [248. 212. 243.]\n",
      "  [248. 212. 243.]\n",
      "  ...\n",
      "  [249. 213. 242.]\n",
      "  [249. 213. 239.]\n",
      "  [249. 213. 241.]]\n",
      "\n",
      " [[248. 212. 243.]\n",
      "  [248. 212. 244.]\n",
      "  [248. 212. 243.]\n",
      "  ...\n",
      "  [249. 213. 242.]\n",
      "  [249. 213. 241.]\n",
      "  [249. 213. 241.]]\n",
      "\n",
      " ...\n",
      "\n",
      " [[248. 212. 243.]\n",
      "  [248. 212. 242.]\n",
      "  [248. 213. 243.]\n",
      "  ...\n",
      "  [249. 213. 243.]\n",
      "  [249. 213. 243.]\n",
      "  [250. 213. 242.]]\n",
      "\n",
      " [[248. 212. 243.]\n",
      "  [248. 212. 243.]\n",
      "  [248. 211. 242.]\n",
      "  ...\n",
      "  [247. 212. 243.]\n",
      "  [247. 212. 243.]\n",
      "  [249. 213. 243.]]\n",
      "\n",
      " [[249. 213. 242.]\n",
      "  [249. 213. 242.]\n",
      "  [249. 213. 241.]\n",
      "  ...\n",
      "  [249. 213. 240.]\n",
      "  [248. 213. 241.]\n",
      "  [248. 213. 240.]]]\n"
     ]
    }
   ],
   "source": [
    "print(n1[2])"
   ]
  },
  {
   "cell_type": "code",
   "execution_count": 33,
   "metadata": {},
   "outputs": [
    {
     "name": "stdout",
     "output_type": "stream",
     "text": [
      "[[[249. 213. 241.]\n",
      "  [249. 213. 243.]\n",
      "  [249. 213. 243.]\n",
      "  ...\n",
      "  [249. 213. 241.]\n",
      "  [249. 213. 241.]\n",
      "  [249. 213. 242.]]\n",
      "\n",
      " [[249. 213. 243.]\n",
      "  [249. 213. 243.]\n",
      "  [249. 213. 242.]\n",
      "  ...\n",
      "  [249. 213. 242.]\n",
      "  [249. 213. 241.]\n",
      "  [249. 213. 240.]]\n",
      "\n",
      " [[249. 213. 244.]\n",
      "  [249. 213. 242.]\n",
      "  [248. 213. 240.]\n",
      "  ...\n",
      "  [249. 213. 243.]\n",
      "  [249. 213. 241.]\n",
      "  [249. 213. 240.]]\n",
      "\n",
      " ...\n",
      "\n",
      " [[249. 213. 239.]\n",
      "  [248. 213. 239.]\n",
      "  [249. 213. 241.]\n",
      "  ...\n",
      "  [249. 213. 241.]\n",
      "  [248. 213. 243.]\n",
      "  [248. 213. 244.]]\n",
      "\n",
      " [[249. 213. 243.]\n",
      "  [249. 213. 243.]\n",
      "  [249. 213. 243.]\n",
      "  ...\n",
      "  [248. 212. 241.]\n",
      "  [247. 212. 243.]\n",
      "  [248. 212. 244.]]\n",
      "\n",
      " [[248. 212. 242.]\n",
      "  [248. 212. 242.]\n",
      "  [248. 212. 242.]\n",
      "  ...\n",
      "  [249. 213. 241.]\n",
      "  [248. 213. 241.]\n",
      "  [248. 213. 241.]]]\n"
     ]
    }
   ],
   "source": [
    "print(n1[3])"
   ]
  },
  {
   "cell_type": "code",
   "execution_count": 34,
   "metadata": {},
   "outputs": [
    {
     "name": "stdout",
     "output_type": "stream",
     "text": [
      "[[[249. 213. 242.]\n",
      "  [249. 213. 242.]\n",
      "  [249. 213. 242.]\n",
      "  ...\n",
      "  [249. 214. 240.]\n",
      "  [249. 214. 242.]\n",
      "  [249. 213. 243.]]\n",
      "\n",
      " [[249. 213. 242.]\n",
      "  [249. 213. 242.]\n",
      "  [249. 213. 242.]\n",
      "  ...\n",
      "  [248. 212. 240.]\n",
      "  [248. 212. 241.]\n",
      "  [249. 212. 243.]]\n",
      "\n",
      " [[249. 213. 242.]\n",
      "  [249. 213. 242.]\n",
      "  [249. 213. 242.]\n",
      "  ...\n",
      "  [248. 212. 240.]\n",
      "  [248. 212. 240.]\n",
      "  [249. 212. 243.]]\n",
      "\n",
      " ...\n",
      "\n",
      " [[249. 213. 241.]\n",
      "  [249. 213. 243.]\n",
      "  [249. 213. 243.]\n",
      "  ...\n",
      "  [249. 213. 242.]\n",
      "  [249. 213. 242.]\n",
      "  [247. 212. 242.]]\n",
      "\n",
      " [[250. 213. 242.]\n",
      "  [249. 213. 242.]\n",
      "  [249. 213. 241.]\n",
      "  ...\n",
      "  [249. 213. 242.]\n",
      "  [249. 213. 243.]\n",
      "  [247. 214. 244.]]\n",
      "\n",
      " [[247. 212. 242.]\n",
      "  [247. 213. 242.]\n",
      "  [247. 213. 242.]\n",
      "  ...\n",
      "  [249. 213. 243.]\n",
      "  [249. 214. 243.]\n",
      "  [249. 214. 243.]]]\n"
     ]
    }
   ],
   "source": [
    "print(n1[0])"
   ]
  },
  {
   "cell_type": "code",
   "execution_count": 35,
   "metadata": {},
   "outputs": [
    {
     "data": {
      "text/plain": [
       "<HDF5 dataset \"x_centroid\": shape (2891, 1), type \"<f8\">"
      ]
     },
     "execution_count": 35,
     "metadata": {},
     "output_type": "execute_result"
    }
   ],
   "source": [
    "n2=f.get('x_centroid')\n",
    "n2"
   ]
  },
  {
   "cell_type": "code",
   "execution_count": 36,
   "metadata": {},
   "outputs": [
    {
     "data": {
      "text/plain": [
       "(2891, 1)"
      ]
     },
     "execution_count": 36,
     "metadata": {},
     "output_type": "execute_result"
    }
   ],
   "source": [
    "n2=np.array(n2)\n",
    "n2.shape"
   ]
  },
  {
   "cell_type": "code",
   "execution_count": 37,
   "metadata": {},
   "outputs": [
    {
     "name": "stdout",
     "output_type": "stream",
     "text": [
      "[17.]\n"
     ]
    }
   ],
   "source": [
    "print(n2[0])"
   ]
  },
  {
   "cell_type": "code",
   "execution_count": 38,
   "metadata": {},
   "outputs": [
    {
     "name": "stdout",
     "output_type": "stream",
     "text": [
      "[[17. ]\n",
      " [17. ]\n",
      " [17. ]\n",
      " [17. ]\n",
      " [17. ]\n",
      " [17. ]\n",
      " [17. ]\n",
      " [51.5]\n",
      " [51.5]\n",
      " [51.5]\n",
      " [51.5]\n",
      " [51.5]\n",
      " [51.5]\n",
      " [51.5]\n",
      " [85.5]]\n"
     ]
    }
   ],
   "source": [
    "print(n2[:15])"
   ]
  },
  {
   "cell_type": "code",
   "execution_count": 39,
   "metadata": {},
   "outputs": [
    {
     "name": "stdout",
     "output_type": "stream",
     "text": [
      "[[ 85.5]\n",
      " [ 85.5]\n",
      " [ 85.5]\n",
      " [ 85.5]\n",
      " [ 85.5]\n",
      " [119.5]\n",
      " [119.5]\n",
      " [119.5]\n",
      " [119.5]\n",
      " [119.5]\n",
      " [119.5]\n",
      " [119.5]\n",
      " [153.5]\n",
      " [153.5]]\n"
     ]
    }
   ],
   "source": [
    "print(n2[16:30])"
   ]
  },
  {
   "cell_type": "code",
   "execution_count": null,
   "metadata": {},
   "outputs": [],
   "source": []
  }
 ],
 "metadata": {
  "kernelspec": {
   "display_name": "Python 2 (htkProject)",
   "language": "python",
   "name": "htkproject"
  },
  "language_info": {
   "codemirror_mode": {
    "name": "ipython",
    "version": 2
   },
   "file_extension": ".py",
   "mimetype": "text/x-python",
   "name": "python",
   "nbconvert_exporter": "python",
   "pygments_lexer": "ipython2",
   "version": "2.7.14"
  }
 },
 "nbformat": 4,
 "nbformat_minor": 2
}
