{
 "cells": [
  {
   "cell_type": "code",
   "execution_count": 1,
   "metadata": {},
   "outputs": [
    {
     "name": "stderr",
     "output_type": "stream",
     "text": [
      "INFO:girder:Created LRU Cache for 'tilesource' with 104 maximum size\n",
      "INFO:root:Notice: Could not import MapnikTileSource\n",
      "/home/raj/anaconda2/envs/htkProject/lib/python2.7/site-packages/h5py/__init__.py:36: FutureWarning: Conversion of the second argument of issubdtype from `float` to `np.floating` is deprecated. In future, it will be treated as `np.float64 == np.dtype(float).type`.\n",
      "  from ._conv import register_converters as _register_converters\n"
     ]
    }
   ],
   "source": [
    "import dask\n",
    "import sys\n",
    "sys.path.append('../cli_common/')\n",
    "import utils as cli_utils\n",
    "import histomicstk.preprocessing.color_normalization as htk_cnorm\n",
    "import large_image\n",
    "import histomicstk.utils as htk_utils\n",
    "from skimage.measure import regionprops\n",
    "from skimage.segmentation import slic\n",
    "import numpy as np\n",
    "import h5py"
   ]
  },
  {
   "cell_type": "code",
   "execution_count": null,
   "metadata": {},
   "outputs": [],
   "source": [
    "def create_dask_client():\n",
    "    \"\"\"Create and install a Dask distributed client using args from a\n",
    "    Namespace, supporting the following attributes:\n",
    "\n",
    "    - .scheduler_address: Address of the distributed scheduler, or the\n",
    "      empty string to start one locally\n",
    "\n",
    "    \"\"\"\n",
    "    \n",
    "\n",
    "    scheduler_address = dask.distributed.LocalCluster(\n",
    "        ip='0.0.0.0',  # Allow reaching the diagnostics port externally\n",
    "        scheduler_port=0,  # Don't expose the scheduler port\n",
    "        silence_logs=False\n",
    "    )\n",
    "\n",
    "    return dask.distributed.Client()"
   ]
  },
  {
   "cell_type": "code",
   "execution_count": null,
   "metadata": {},
   "outputs": [],
   "source": [
    "c = create_dask_client()\n",
    "c"
   ]
  },
  {
   "cell_type": "code",
   "execution_count": 3,
   "metadata": {},
   "outputs": [],
   "source": [
    "slidePath = 'TCGA.svs'\n",
    "ts = large_image.getTileSource(slidePath)\n",
    "# compute colorspace statistics (mean, variance) for whole slide\n",
    "wsi_mean, wsi_stddev = htk_cnorm.reinhard_stats(slidePath, 0.1, 10)"
   ]
  },
  {
   "cell_type": "code",
   "execution_count": 4,
   "metadata": {},
   "outputs": [],
   "source": [
    "# compute tissue/foreground mask at low-res for whole slide images\n",
    "im_fgnd_mask_lres, fgnd_seg_scale = cli_utils.segment_wsi_foreground_at_low_res(ts)"
   ]
  },
  {
   "cell_type": "code",
   "execution_count": 5,
   "metadata": {},
   "outputs": [
    {
     "name": "stdout",
     "output_type": "stream",
     "text": [
      "\n",
      ">> Detecting superpixel data ...\n",
      "\n"
     ]
    }
   ],
   "source": [
    "# compute foreground fraction of tiles in parallel using Dask\n",
    "analysis_tile_size = 2048\n",
    "analysis_mag = 10\n",
    "it_kwargs = {\n",
    "    'tile_size': {'width': analysis_tile_size},\n",
    "    'scale': {'magnification': analysis_mag},\n",
    "}\n",
    "\n",
    "inputSlidePath = 0\n",
    "\n",
    "tile_fgnd_frac_list = htk_utils.compute_tile_foreground_fraction(\n",
    "    slidePath, im_fgnd_mask_lres, fgnd_seg_scale,\n",
    "    **it_kwargs\n",
    ")\n",
    "\n",
    "print('\\n>> Detecting superpixel data ...\\n')"
   ]
  },
  {
   "cell_type": "code",
   "execution_count": 6,
   "metadata": {},
   "outputs": [],
   "source": [
    "def compute_superpixel_data(img_path, tile_position, wsi_mean, wsi_stddev):\n",
    "    \n",
    "    # get slide tile source\n",
    "    ts = large_image.getTileSource(img_path)\n",
    "\n",
    "    # get requested tile information\n",
    "    tile_info = ts.getSingleTile(\n",
    "        tile_position=tile_position,\n",
    "        resample=True,\n",
    "        format=large_image.tilesource.TILE_FORMAT_NUMPY)\n",
    "    \n",
    "    \n",
    "    im_tile = tile_info['tile'][:, :, :3]\n",
    "\n",
    "    reference_mu_lab = [8.63234435, -0.11501964, 0.03868433]\n",
    "    reference_std_lab = [0.57506023, 0.10403329, 0.01364062]\n",
    "    \n",
    "    # perform color normalization\n",
    "    im_nmzd = htk_cnorm.reinhard(im_tile,\n",
    "                                 reference_mu_lab, reference_std_lab,\n",
    "                                 wsi_mean, wsi_stddev)\n",
    "    patchSize = 32\n",
    "    # compute the number of super-pixels\n",
    "    im_width, im_height = im_nmzd.shape[:2]\n",
    "    n_superpixels = (im_width/patchSize) * (im_height/patchSize)\n",
    "\n",
    "    #\n",
    "    # Generate labels using a superpixel algorithm (SLIC)\n",
    "    # In SLIC, compactness controls image space proximity.\n",
    "    # Higher compactness will make the shape of superpixels more square.\n",
    "    #\n",
    "    \n",
    "    compactness = 50\n",
    "    im_label = slic(im_nmzd, n_segments=n_superpixels,\n",
    "                    compactness=compactness) + 1\n",
    "\n",
    "    region_props = regionprops(im_label)\n",
    "\n",
    "    # set superpixel data list\n",
    "    s_data = []\n",
    "\n",
    "    for i in range(len(region_props)):\n",
    "        # get x, y centroids for superpixel\n",
    "        cen_x, cen_y = region_props[i].centroid\n",
    "\n",
    "        # get bounds of superpixel region\n",
    "        min_row, max_row, min_col, max_col = \\\n",
    "            get_patch_bounds(cen_x, cen_y, patchSize, im_width, im_height)\n",
    "\n",
    "        rgb_data = im_nmzd[min_row:max_row, min_col:max_col]\n",
    "\n",
    "        s_data.append(rgb_data)\n",
    "\n",
    "    return s_data\n",
    "\n",
    "def get_patch_bounds(cx, cy, patch_size, m, n):\n",
    "\n",
    "    half_patch_size = patch_size/2.0\n",
    "\n",
    "    min_row = int(round(cx) - half_patch_size)\n",
    "    max_row = int(round(cx) + half_patch_size)\n",
    "    min_col = int(round(cy) - half_patch_size)\n",
    "    max_col = int(round(cy) + half_patch_size)\n",
    "\n",
    "    if min_row < 0:\n",
    "        max_row = max_row - min_row\n",
    "        min_row = 0\n",
    "\n",
    "    if max_row > m-1:\n",
    "        min_row = min_row - (max_row - (m-1))\n",
    "        max_row = m-1\n",
    "\n",
    "    if min_col < 0:\n",
    "        max_col = max_col - min_col\n",
    "        min_col = 0\n",
    "\n",
    "    if max_col > n-1:\n",
    "        min_col = min_col - (max_col - (n-1))\n",
    "        max_col = n-1\n",
    "\n",
    "    return min_row, max_row, min_col, max_col"
   ]
  },
  {
   "cell_type": "code",
   "execution_count": 7,
   "metadata": {
    "scrolled": true
   },
   "outputs": [],
   "source": [
    "tile_result_list = []\n",
    "min_fgnd_frac = 0.001\n",
    "\n",
    "\n",
    "for tile in ts.tileIterator(**it_kwargs):\n",
    "    tile_position = tile['tile_position']['position']\n",
    "    if tile_fgnd_frac_list[tile_position] <= min_fgnd_frac:\n",
    "        continue\n",
    "\n",
    "    # detect superpixel data\n",
    "    cur_result = dask.delayed(compute_superpixel_data)(\n",
    "        slidePath,\n",
    "        tile_position,\n",
    "        wsi_mean, wsi_stddev)\n",
    "\n",
    "    # append result to list\n",
    "    tile_result_list.append(cur_result)\n",
    "\n",
    "tile_result_list = dask.delayed(tile_result_list).compute()\n",
    "\n",
    "# initiate output data list\n",
    "superpixel_data = []"
   ]
  },
  {
   "cell_type": "code",
   "execution_count": 8,
   "metadata": {
    "scrolled": true
   },
   "outputs": [
    {
     "name": "stdout",
     "output_type": "stream",
     "text": [
      ">> Writing superpixel data information\n"
     ]
    }
   ],
   "source": [
    "for s_data in tile_result_list:\n",
    "    for s_d in s_data:\n",
    "        superpixel_data.append(s_d)\n",
    "\n",
    "superpixel_data = np.asarray(superpixel_data, dtype=np.float32)\n",
    "\n",
    "print('>> Writing superpixel data information')\n",
    "\n",
    "output = h5py.File('superpixelResults', 'w')\n",
    "output.create_dataset('features', data=superpixel_data)\n",
    "output.close()"
   ]
  },
  {
   "cell_type": "code",
   "execution_count": 9,
   "metadata": {},
   "outputs": [
    {
     "data": {
      "text/plain": [
       "array([[[[248., 212., 242.],\n",
       "         [248., 212., 242.],\n",
       "         [248., 212., 242.],\n",
       "         ...,\n",
       "         [249., 213., 240.],\n",
       "         [249., 213., 242.],\n",
       "         [249., 213., 243.]],\n",
       "\n",
       "        [[248., 212., 242.],\n",
       "         [248., 212., 242.],\n",
       "         [248., 212., 242.],\n",
       "         ...,\n",
       "         [247., 212., 240.],\n",
       "         [248., 212., 241.],\n",
       "         [249., 212., 243.]],\n",
       "\n",
       "        [[248., 212., 242.],\n",
       "         [248., 212., 242.],\n",
       "         [248., 212., 242.],\n",
       "         ...,\n",
       "         [247., 212., 240.],\n",
       "         [247., 212., 240.],\n",
       "         [249., 211., 242.]],\n",
       "\n",
       "        ...,\n",
       "\n",
       "        [[249., 213., 241.],\n",
       "         [248., 212., 242.],\n",
       "         [249., 212., 243.],\n",
       "         ...,\n",
       "         [248., 212., 242.],\n",
       "         [248., 212., 242.],\n",
       "         [247., 212., 242.]],\n",
       "\n",
       "        [[249., 213., 242.],\n",
       "         [249., 213., 242.],\n",
       "         [248., 213., 241.],\n",
       "         ...,\n",
       "         [248., 212., 242.],\n",
       "         [248., 212., 242.],\n",
       "         [247., 213., 244.]],\n",
       "\n",
       "        [[246., 212., 242.],\n",
       "         [247., 212., 242.],\n",
       "         [247., 213., 242.],\n",
       "         ...,\n",
       "         [249., 213., 242.],\n",
       "         [249., 214., 243.],\n",
       "         [249., 214., 243.]]],\n",
       "\n",
       "\n",
       "       [[[249., 213., 242.],\n",
       "         [249., 213., 241.],\n",
       "         [249., 212., 241.],\n",
       "         ...,\n",
       "         [248., 212., 240.],\n",
       "         [248., 212., 242.],\n",
       "         [248., 212., 242.]],\n",
       "\n",
       "        [[249., 213., 242.],\n",
       "         [249., 213., 242.],\n",
       "         [249., 213., 242.],\n",
       "         ...,\n",
       "         [249., 212., 241.],\n",
       "         [249., 212., 243.],\n",
       "         [248., 212., 243.]],\n",
       "\n",
       "        [[249., 213., 242.],\n",
       "         [249., 213., 242.],\n",
       "         [248., 214., 242.],\n",
       "         ...,\n",
       "         [249., 212., 242.],\n",
       "         [249., 212., 244.],\n",
       "         [248., 212., 244.]],\n",
       "\n",
       "        ...,\n",
       "\n",
       "        [[249., 213., 242.],\n",
       "         [249., 213., 242.],\n",
       "         [248., 212., 242.],\n",
       "         ...,\n",
       "         [249., 213., 241.],\n",
       "         [249., 213., 241.],\n",
       "         [249., 213., 242.]],\n",
       "\n",
       "        [[249., 211., 244.],\n",
       "         [249., 212., 244.],\n",
       "         [250., 213., 244.],\n",
       "         ...,\n",
       "         [249., 213., 241.],\n",
       "         [249., 213., 241.],\n",
       "         [249., 213., 242.]],\n",
       "\n",
       "        [[248., 212., 242.],\n",
       "         [250., 212., 241.],\n",
       "         [249., 212., 241.],\n",
       "         ...,\n",
       "         [248., 212., 242.],\n",
       "         [248., 212., 242.],\n",
       "         [248., 212., 242.]]],\n",
       "\n",
       "\n",
       "       [[[248., 212., 242.],\n",
       "         [248., 212., 242.],\n",
       "         [248., 212., 242.],\n",
       "         ...,\n",
       "         [249., 213., 241.],\n",
       "         [249., 213., 238.],\n",
       "         [248., 212., 242.]],\n",
       "\n",
       "        [[247., 212., 242.],\n",
       "         [247., 212., 243.],\n",
       "         [248., 212., 242.],\n",
       "         ...,\n",
       "         [249., 213., 242.],\n",
       "         [249., 213., 239.],\n",
       "         [248., 213., 241.]],\n",
       "\n",
       "        [[248., 212., 243.],\n",
       "         [248., 212., 244.],\n",
       "         [248., 212., 242.],\n",
       "         ...,\n",
       "         [249., 213., 242.],\n",
       "         [249., 213., 241.],\n",
       "         [248., 213., 241.]],\n",
       "\n",
       "        ...,\n",
       "\n",
       "        [[248., 212., 242.],\n",
       "         [248., 211., 242.],\n",
       "         [248., 212., 242.],\n",
       "         ...,\n",
       "         [248., 212., 242.],\n",
       "         [248., 212., 242.],\n",
       "         [250., 213., 242.]],\n",
       "\n",
       "        [[248., 212., 242.],\n",
       "         [248., 211., 243.],\n",
       "         [247., 211., 242.],\n",
       "         ...,\n",
       "         [247., 212., 243.],\n",
       "         [247., 212., 243.],\n",
       "         [249., 212., 243.]],\n",
       "\n",
       "        [[248., 212., 242.],\n",
       "         [249., 213., 242.],\n",
       "         [248., 213., 241.],\n",
       "         ...,\n",
       "         [248., 213., 240.],\n",
       "         [248., 213., 241.],\n",
       "         [248., 212., 240.]]],\n",
       "\n",
       "\n",
       "       ...,\n",
       "\n",
       "\n",
       "       [[[247., 212., 242.],\n",
       "         [248., 213., 242.],\n",
       "         [248., 213., 242.],\n",
       "         ...,\n",
       "         [247., 212., 242.],\n",
       "         [248., 212., 242.],\n",
       "         [248., 212., 242.]],\n",
       "\n",
       "        [[248., 214., 242.],\n",
       "         [248., 214., 242.],\n",
       "         [248., 214., 242.],\n",
       "         ...,\n",
       "         [246., 211., 242.],\n",
       "         [249., 213., 242.],\n",
       "         [249., 212., 243.]],\n",
       "\n",
       "        [[248., 213., 241.],\n",
       "         [248., 212., 242.],\n",
       "         [248., 212., 242.],\n",
       "         ...,\n",
       "         [247., 212., 242.],\n",
       "         [251., 213., 246.],\n",
       "         [250., 213., 244.]],\n",
       "\n",
       "        ...,\n",
       "\n",
       "        [[247., 212., 242.],\n",
       "         [248., 212., 242.],\n",
       "         [248., 212., 242.],\n",
       "         ...,\n",
       "         [249., 212., 242.],\n",
       "         [248., 212., 242.],\n",
       "         [248., 212., 242.]],\n",
       "\n",
       "        [[248., 212., 242.],\n",
       "         [248., 212., 242.],\n",
       "         [248., 212., 242.],\n",
       "         ...,\n",
       "         [249., 212., 242.],\n",
       "         [248., 212., 242.],\n",
       "         [248., 212., 242.]],\n",
       "\n",
       "        [[249., 212., 242.],\n",
       "         [249., 212., 242.],\n",
       "         [249., 212., 242.],\n",
       "         ...,\n",
       "         [248., 212., 241.],\n",
       "         [249., 212., 242.],\n",
       "         [249., 212., 242.]]],\n",
       "\n",
       "\n",
       "       [[[248., 212., 242.],\n",
       "         [248., 212., 241.],\n",
       "         [248., 212., 242.],\n",
       "         ...,\n",
       "         [248., 213., 240.],\n",
       "         [248., 213., 239.],\n",
       "         [248., 212., 242.]],\n",
       "\n",
       "        [[247., 212., 242.],\n",
       "         [247., 212., 241.],\n",
       "         [247., 212., 242.],\n",
       "         ...,\n",
       "         [248., 213., 240.],\n",
       "         [248., 213., 239.],\n",
       "         [248., 212., 242.]],\n",
       "\n",
       "        [[247., 212., 238.],\n",
       "         [247., 212., 239.],\n",
       "         [247., 212., 242.],\n",
       "         ...,\n",
       "         [248., 212., 242.],\n",
       "         [248., 212., 243.],\n",
       "         [248., 212., 242.]],\n",
       "\n",
       "        ...,\n",
       "\n",
       "        [[248., 212., 242.],\n",
       "         [248., 212., 242.],\n",
       "         [248., 212., 242.],\n",
       "         ...,\n",
       "         [248., 212., 242.],\n",
       "         [249., 213., 242.],\n",
       "         [249., 213., 242.]],\n",
       "\n",
       "        [[248., 212., 242.],\n",
       "         [248., 212., 242.],\n",
       "         [248., 212., 242.],\n",
       "         ...,\n",
       "         [249., 213., 240.],\n",
       "         [248., 212., 242.],\n",
       "         [248., 212., 243.]],\n",
       "\n",
       "        [[248., 212., 242.],\n",
       "         [248., 212., 242.],\n",
       "         [248., 212., 242.],\n",
       "         ...,\n",
       "         [249., 213., 238.],\n",
       "         [248., 212., 242.],\n",
       "         [247., 212., 244.]]],\n",
       "\n",
       "\n",
       "       [[[248., 213., 241.],\n",
       "         [248., 212., 242.],\n",
       "         [249., 213., 242.],\n",
       "         ...,\n",
       "         [247., 210., 243.],\n",
       "         [247., 210., 241.],\n",
       "         [247., 210., 241.]],\n",
       "\n",
       "        [[248., 213., 241.],\n",
       "         [248., 212., 242.],\n",
       "         [249., 213., 242.],\n",
       "         ...,\n",
       "         [247., 210., 244.],\n",
       "         [246., 210., 241.],\n",
       "         [246., 210., 240.]],\n",
       "\n",
       "        [[248., 212., 242.],\n",
       "         [248., 212., 244.],\n",
       "         [246., 209., 241.],\n",
       "         ...,\n",
       "         [247., 212., 242.],\n",
       "         [247., 212., 239.],\n",
       "         [248., 212., 238.]],\n",
       "\n",
       "        ...,\n",
       "\n",
       "        [[248., 212., 241.],\n",
       "         [247., 212., 241.],\n",
       "         [249., 212., 241.],\n",
       "         ...,\n",
       "         [246., 210., 241.],\n",
       "         [248., 211., 241.],\n",
       "         [249., 211., 241.]],\n",
       "\n",
       "        [[249., 213., 242.],\n",
       "         [249., 213., 241.],\n",
       "         [249., 212., 242.],\n",
       "         ...,\n",
       "         [246., 210., 241.],\n",
       "         [248., 211., 241.],\n",
       "         [249., 211., 241.]],\n",
       "\n",
       "        [[249., 213., 242.],\n",
       "         [250., 213., 240.],\n",
       "         [247., 212., 239.],\n",
       "         ...,\n",
       "         [247., 211., 241.],\n",
       "         [247., 211., 241.],\n",
       "         [247., 211., 241.]]]], dtype=float32)"
      ]
     },
     "execution_count": 9,
     "metadata": {},
     "output_type": "execute_result"
    }
   ],
   "source": [
    "superpixel_data"
   ]
  },
  {
   "cell_type": "code",
   "execution_count": 11,
   "metadata": {},
   "outputs": [
    {
     "ename": "TypeError",
     "evalue": "Invalid dimensions for image data",
     "output_type": "error",
     "traceback": [
      "\u001b[0;31m---------------------------------------------------------------------------\u001b[0m",
      "\u001b[0;31mTypeError\u001b[0m                                 Traceback (most recent call last)",
      "\u001b[0;32m<ipython-input-11-4f536c1c568a>\u001b[0m in \u001b[0;36m<module>\u001b[0;34m()\u001b[0m\n\u001b[0;32m----> 1\u001b[0;31m \u001b[0mplt\u001b[0m\u001b[0;34m.\u001b[0m\u001b[0mimshow\u001b[0m\u001b[0;34m(\u001b[0m\u001b[0msuperpixel_data\u001b[0m\u001b[0;34m)\u001b[0m\u001b[0;34m\u001b[0m\u001b[0m\n\u001b[0m\u001b[1;32m      2\u001b[0m \u001b[0mplt\u001b[0m\u001b[0;34m.\u001b[0m\u001b[0mshow\u001b[0m\u001b[0;34m(\u001b[0m\u001b[0;34m)\u001b[0m\u001b[0;34m\u001b[0m\u001b[0m\n",
      "\u001b[0;32m/home/raj/.local/lib/python2.7/site-packages/matplotlib/pyplot.pyc\u001b[0m in \u001b[0;36mimshow\u001b[0;34m(X, cmap, norm, aspect, interpolation, alpha, vmin, vmax, origin, extent, shape, filternorm, filterrad, imlim, resample, url, hold, data, **kwargs)\u001b[0m\n\u001b[1;32m   3203\u001b[0m                         \u001b[0mfilternorm\u001b[0m\u001b[0;34m=\u001b[0m\u001b[0mfilternorm\u001b[0m\u001b[0;34m,\u001b[0m \u001b[0mfilterrad\u001b[0m\u001b[0;34m=\u001b[0m\u001b[0mfilterrad\u001b[0m\u001b[0;34m,\u001b[0m\u001b[0;34m\u001b[0m\u001b[0m\n\u001b[1;32m   3204\u001b[0m                         \u001b[0mimlim\u001b[0m\u001b[0;34m=\u001b[0m\u001b[0mimlim\u001b[0m\u001b[0;34m,\u001b[0m \u001b[0mresample\u001b[0m\u001b[0;34m=\u001b[0m\u001b[0mresample\u001b[0m\u001b[0;34m,\u001b[0m \u001b[0murl\u001b[0m\u001b[0;34m=\u001b[0m\u001b[0murl\u001b[0m\u001b[0;34m,\u001b[0m \u001b[0mdata\u001b[0m\u001b[0;34m=\u001b[0m\u001b[0mdata\u001b[0m\u001b[0;34m,\u001b[0m\u001b[0;34m\u001b[0m\u001b[0m\n\u001b[0;32m-> 3205\u001b[0;31m                         **kwargs)\n\u001b[0m\u001b[1;32m   3206\u001b[0m     \u001b[0;32mfinally\u001b[0m\u001b[0;34m:\u001b[0m\u001b[0;34m\u001b[0m\u001b[0m\n\u001b[1;32m   3207\u001b[0m         \u001b[0max\u001b[0m\u001b[0;34m.\u001b[0m\u001b[0m_hold\u001b[0m \u001b[0;34m=\u001b[0m \u001b[0mwashold\u001b[0m\u001b[0;34m\u001b[0m\u001b[0m\n",
      "\u001b[0;32m/home/raj/.local/lib/python2.7/site-packages/matplotlib/__init__.pyc\u001b[0m in \u001b[0;36minner\u001b[0;34m(ax, *args, **kwargs)\u001b[0m\n\u001b[1;32m   1853\u001b[0m                         \u001b[0;34m\"the Matplotlib list!)\"\u001b[0m \u001b[0;34m%\u001b[0m \u001b[0;34m(\u001b[0m\u001b[0mlabel_namer\u001b[0m\u001b[0;34m,\u001b[0m \u001b[0mfunc\u001b[0m\u001b[0;34m.\u001b[0m\u001b[0m__name__\u001b[0m\u001b[0;34m)\u001b[0m\u001b[0;34m,\u001b[0m\u001b[0;34m\u001b[0m\u001b[0m\n\u001b[1;32m   1854\u001b[0m                         RuntimeWarning, stacklevel=2)\n\u001b[0;32m-> 1855\u001b[0;31m             \u001b[0;32mreturn\u001b[0m \u001b[0mfunc\u001b[0m\u001b[0;34m(\u001b[0m\u001b[0max\u001b[0m\u001b[0;34m,\u001b[0m \u001b[0;34m*\u001b[0m\u001b[0margs\u001b[0m\u001b[0;34m,\u001b[0m \u001b[0;34m**\u001b[0m\u001b[0mkwargs\u001b[0m\u001b[0;34m)\u001b[0m\u001b[0;34m\u001b[0m\u001b[0m\n\u001b[0m\u001b[1;32m   1856\u001b[0m \u001b[0;34m\u001b[0m\u001b[0m\n\u001b[1;32m   1857\u001b[0m         inner.__doc__ = _add_data_doc(inner.__doc__,\n",
      "\u001b[0;32m/home/raj/.local/lib/python2.7/site-packages/matplotlib/axes/_axes.pyc\u001b[0m in \u001b[0;36mimshow\u001b[0;34m(self, X, cmap, norm, aspect, interpolation, alpha, vmin, vmax, origin, extent, shape, filternorm, filterrad, imlim, resample, url, **kwargs)\u001b[0m\n\u001b[1;32m   5485\u001b[0m                               resample=resample, **kwargs)\n\u001b[1;32m   5486\u001b[0m \u001b[0;34m\u001b[0m\u001b[0m\n\u001b[0;32m-> 5487\u001b[0;31m         \u001b[0mim\u001b[0m\u001b[0;34m.\u001b[0m\u001b[0mset_data\u001b[0m\u001b[0;34m(\u001b[0m\u001b[0mX\u001b[0m\u001b[0;34m)\u001b[0m\u001b[0;34m\u001b[0m\u001b[0m\n\u001b[0m\u001b[1;32m   5488\u001b[0m         \u001b[0mim\u001b[0m\u001b[0;34m.\u001b[0m\u001b[0mset_alpha\u001b[0m\u001b[0;34m(\u001b[0m\u001b[0malpha\u001b[0m\u001b[0;34m)\u001b[0m\u001b[0;34m\u001b[0m\u001b[0m\n\u001b[1;32m   5489\u001b[0m         \u001b[0;32mif\u001b[0m \u001b[0mim\u001b[0m\u001b[0;34m.\u001b[0m\u001b[0mget_clip_path\u001b[0m\u001b[0;34m(\u001b[0m\u001b[0;34m)\u001b[0m \u001b[0;32mis\u001b[0m \u001b[0mNone\u001b[0m\u001b[0;34m:\u001b[0m\u001b[0;34m\u001b[0m\u001b[0m\n",
      "\u001b[0;32m/home/raj/.local/lib/python2.7/site-packages/matplotlib/image.pyc\u001b[0m in \u001b[0;36mset_data\u001b[0;34m(self, A)\u001b[0m\n\u001b[1;32m    651\u001b[0m         if not (self._A.ndim == 2\n\u001b[1;32m    652\u001b[0m                 or self._A.ndim == 3 and self._A.shape[-1] in [3, 4]):\n\u001b[0;32m--> 653\u001b[0;31m             \u001b[0;32mraise\u001b[0m \u001b[0mTypeError\u001b[0m\u001b[0;34m(\u001b[0m\u001b[0;34m\"Invalid dimensions for image data\"\u001b[0m\u001b[0;34m)\u001b[0m\u001b[0;34m\u001b[0m\u001b[0m\n\u001b[0m\u001b[1;32m    654\u001b[0m \u001b[0;34m\u001b[0m\u001b[0m\n\u001b[1;32m    655\u001b[0m         \u001b[0;32mif\u001b[0m \u001b[0mself\u001b[0m\u001b[0;34m.\u001b[0m\u001b[0m_A\u001b[0m\u001b[0;34m.\u001b[0m\u001b[0mndim\u001b[0m \u001b[0;34m==\u001b[0m \u001b[0;36m3\u001b[0m\u001b[0;34m:\u001b[0m\u001b[0;34m\u001b[0m\u001b[0m\n",
      "\u001b[0;31mTypeError\u001b[0m: Invalid dimensions for image data"
     ]
    },
    {
     "data": {
      "image/png": "[encoded data removed]",
      "text/plain": [
       "<Figure size 432x288 with 1 Axes>"
      ]
     },
     "metadata": {},
     "output_type": "display_data"
    }
   ],
   "source": [
    "plt.imshow(superpixel_data)\n",
    "plt.show()"
   ]
  },
  {
   "cell_type": "code",
   "execution_count": 10,
   "metadata": {},
   "outputs": [],
   "source": [
    "import numpy as np\n",
    "from PIL import Image\n",
    "import matplotlib.pyplot as plt"
   ]
  },
  {
   "cell_type": "code",
   "execution_count": null,
   "metadata": {},
   "outputs": [],
   "source": []
  },
  {
   "cell_type": "code",
   "execution_count": null,
   "metadata": {},
   "outputs": [],
   "source": [
    "import h5py"
   ]
  },
  {
   "cell_type": "code",
   "execution_count": null,
   "metadata": {},
   "outputs": [],
   "source": [
    "f=h5py.File('TCGAopt','r')\n",
    "dset=f.keys()"
   ]
  },
  {
   "cell_type": "code",
   "execution_count": null,
   "metadata": {},
   "outputs": [],
   "source": [
    "dset[0]"
   ]
  },
  {
   "cell_type": "code",
   "execution_count": null,
   "metadata": {},
   "outputs": [],
   "source": [
    "dset[1]"
   ]
  },
  {
   "cell_type": "code",
   "execution_count": null,
   "metadata": {},
   "outputs": [],
   "source": [
    "dset[2]"
   ]
  },
  {
   "cell_type": "code",
   "execution_count": null,
   "metadata": {},
   "outputs": [],
   "source": [
    "import numpy as np"
   ]
  },
  {
   "cell_type": "code",
   "execution_count": null,
   "metadata": {},
   "outputs": [],
   "source": [
    "n1=f.get('features')\n",
    "n1"
   ]
  },
  {
   "cell_type": "code",
   "execution_count": null,
   "metadata": {},
   "outputs": [],
   "source": [
    "n1=np.array(n1)\n",
    "n1.shape"
   ]
  },
  {
   "cell_type": "code",
   "execution_count": null,
   "metadata": {},
   "outputs": [],
   "source": [
    "print(type(n1))"
   ]
  },
  {
   "cell_type": "code",
   "execution_count": null,
   "metadata": {},
   "outputs": [],
   "source": [
    "print(n1[2])"
   ]
  },
  {
   "cell_type": "code",
   "execution_count": null,
   "metadata": {},
   "outputs": [],
   "source": [
    "print(n1[2])"
   ]
  },
  {
   "cell_type": "code",
   "execution_count": null,
   "metadata": {},
   "outputs": [],
   "source": [
    "print(n1[3])"
   ]
  },
  {
   "cell_type": "code",
   "execution_count": null,
   "metadata": {},
   "outputs": [],
   "source": [
    "print(n1[0])"
   ]
  },
  {
   "cell_type": "code",
   "execution_count": null,
   "metadata": {},
   "outputs": [],
   "source": [
    "n2=f.get('x_centroid')\n",
    "n2"
   ]
  },
  {
   "cell_type": "code",
   "execution_count": null,
   "metadata": {},
   "outputs": [],
   "source": [
    "n2=np.array(n2)\n",
    "n2.shape"
   ]
  },
  {
   "cell_type": "code",
   "execution_count": null,
   "metadata": {},
   "outputs": [],
   "source": [
    "print(n2[0])"
   ]
  },
  {
   "cell_type": "code",
   "execution_count": null,
   "metadata": {},
   "outputs": [],
   "source": [
    "print(n2[:15])"
   ]
  },
  {
   "cell_type": "code",
   "execution_count": null,
   "metadata": {},
   "outputs": [],
   "source": [
    "print(n2[16:30])"
   ]
  },
  {
   "cell_type": "code",
   "execution_count": null,
   "metadata": {},
   "outputs": [],
   "source": []
  }
 ],
 "metadata": {
  "kernelspec": {
   "display_name": "Python 2 (htkProject)",
   "language": "python",
   "name": "htkproject"
  },
  "language_info": {
   "codemirror_mode": {
    "name": "ipython",
    "version": 2
   },
   "file_extension": ".py",
   "mimetype": "text/x-python",
   "name": "python",
   "nbconvert_exporter": "python",
   "pygments_lexer": "ipython2",
   "version": "2.7.14"
  }
 },
 "nbformat": 4,
 "nbformat_minor": 2
}
