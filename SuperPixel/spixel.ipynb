{
 "cells": [
  {
   "cell_type": "code",
   "execution_count": 1,
   "metadata": {},
   "outputs": [
    {
     "name": "stderr",
     "output_type": "stream",
     "text": [
      "INFO:root:Created LRU Cache for 'tilesource' with 104 maximum size\n",
      "INFO:root:Notice: Could not import MapnikTileSource\n",
      "/home/raj/anaconda2/envs/spixel/lib/python2.7/site-packages/h5py/__init__.py:36: FutureWarning: Conversion of the second argument of issubdtype from `float` to `np.floating` is deprecated. In future, it will be treated as `np.float64 == np.dtype(float).type`.\n",
      "  from ._conv import register_converters as _register_converters\n"
     ]
    }
   ],
   "source": [
    "import dask\n",
    "import sys\n",
    "sys.path.append('../cli_common/')\n",
    "import utils as cli_utils\n",
    "import histomicstk.preprocessing.color_normalization as htk_cnorm\n",
    "import large_image\n",
    "import histomicstk.utils as htk_utils\n",
    "from skimage.measure import regionprops\n",
    "from skimage.segmentation import slic\n",
    "import numpy as np\n",
    "import h5py\n",
    "from ctk_cli import CLIArgumentParser\n",
    "import dask.distributed as dd\n",
    "\n",
    "import logging\n",
    "logging.basicConfig(level=logging.CRITICAL)"
   ]
  },
  {
   "cell_type": "code",
   "execution_count": 2,
   "metadata": {},
   "outputs": [],
   "source": [
    "def create_dask_client():\n",
    "    \n",
    "    return dask.distributed.Client('')"
   ]
  },
  {
   "cell_type": "code",
   "execution_count": 3,
   "metadata": {},
   "outputs": [],
   "source": [
    "def compute_superpixel_data(img_path, tile_position, wsi_mean, wsi_stddev):\n",
    "    \n",
    "    # get slide tile source\n",
    "    ts = large_image.getTileSource(img_path)\n",
    "\n",
    "    # get requested tile information\n",
    "    tile_info = ts.getSingleTile(\n",
    "        tile_position=tile_position,\n",
    "        resample=True,\n",
    "        format=large_image.tilesource.TILE_FORMAT_NUMPY)\n",
    "\n",
    "\n",
    "    im_tile = tile_info['tile'][:, :, :3]\n",
    "\n",
    "     # get global x and y positions\n",
    "    left = tile_info['gx']\n",
    "    top = tile_info['gy']\n",
    "\n",
    "    # get scale\n",
    "    scale = tile_info['gwidth'] / tile_info['width']\n",
    "\n",
    "\n",
    "    reference_mu_lab = [8.63234435, -0.11501964, 0.03868433]\n",
    "    reference_std_lab = [0.57506023, 0.10403329, 0.01364062]\n",
    "\n",
    "    # perform color normalization\n",
    "    im_nmzd = htk_cnorm.reinhard(im_tile,\n",
    "                                 reference_mu_lab, reference_std_lab,\n",
    "                                 wsi_mean, wsi_stddev)\n",
    "    patchSize = 32\n",
    "    # compute the number of super-pixels\n",
    "    im_width, im_height = im_nmzd.shape[:2]\n",
    "    n_superpixels = (im_width/patchSize) * (im_height/patchSize)\n",
    "\n",
    "    #\n",
    "    # Generate labels using a superpixel algorithm (SLIC)\n",
    "    # In SLIC, compactness controls image space proximity.\n",
    "    # Higher compactness will make the shape of superpixels more square.\n",
    "    #\n",
    "\n",
    "    compactness = 50\n",
    "    im_label = slic(im_nmzd, n_segments=n_superpixels,\n",
    "                    compactness=compactness) + 1\n",
    "\n",
    "    region_props = regionprops(im_label)\n",
    "\n",
    "    # set superpixel data list\n",
    "    s_data = []\n",
    "    x_cent = []\n",
    "    y_cent = []\n",
    "\n",
    "    for i in range(len(region_props)):\n",
    "        # get x, y centroids for superpixel\n",
    "        cen_x, cen_y = region_props[i].centroid\n",
    "\n",
    "        # get bounds of superpixel region\n",
    "        min_row, max_row, min_col, max_col = \\\n",
    "            get_patch_bounds(cen_x, cen_y, patchSize, im_width, im_height)\n",
    "\n",
    "        rgb_data = im_nmzd[min_row:max_row, min_col:max_col]\n",
    "\n",
    "        s_data.append(rgb_data)\n",
    "\n",
    "         # get superpixel centers at highest-res\n",
    "        x_cent.append(\n",
    "            round((cen_x * scale + top), 1))\n",
    "        y_cent.append(\n",
    "            round((cen_y * scale + left), 1))\n",
    "\n",
    "    return s_data, x_cent, y_cent"
   ]
  },
  {
   "cell_type": "code",
   "execution_count": 4,
   "metadata": {},
   "outputs": [],
   "source": [
    "def get_patch_bounds(cx, cy, patch_size, m, n):\n",
    "\n",
    "    half_patch_size = patch_size/2.0\n",
    "\n",
    "    min_row = int(round(cx) - half_patch_size)\n",
    "    max_row = int(round(cx) + half_patch_size)\n",
    "    min_col = int(round(cy) - half_patch_size)\n",
    "    max_col = int(round(cy) + half_patch_size)\n",
    "\n",
    "    if min_row < 0:\n",
    "        max_row = max_row - min_row\n",
    "        min_row = 0\n",
    "\n",
    "    if max_row > m-1:\n",
    "        min_row = min_row - (max_row - (m-1))\n",
    "        max_row = m-1\n",
    "\n",
    "    if min_col < 0:\n",
    "        max_col = max_col - min_col\n",
    "        min_col = 0\n",
    "\n",
    "    if max_col > n-1:\n",
    "        min_col = min_col - (max_col - (n-1))\n",
    "        max_col = n-1\n",
    "\n",
    "    return min_row, max_row, min_col, max_col"
   ]
  },
  {
   "cell_type": "code",
   "execution_count": 14,
   "metadata": {},
   "outputs": [],
   "source": [
    "import dask.distributed as dd\n",
    "scheduler = dd.LocalCluster()\n",
    "from distributed import Client\n",
    "c=Client('127.0.0.1:2222')"
   ]
  },
  {
   "cell_type": "code",
   "execution_count": 15,
   "metadata": {},
   "outputs": [
    {
     "name": "stderr",
     "output_type": "stream",
     "text": [
      "INFO:root:Using memcached for large_image caching\n"
     ]
    }
   ],
   "source": [
    "inputSlidePath='TCGA.svs'\n",
    "ts = large_image.getTileSource(inputSlidePath)"
   ]
  },
  {
   "cell_type": "code",
   "execution_count": 17,
   "metadata": {},
   "outputs": [],
   "source": [
    "sample_fraction = 0.1\n",
    "analysis_mag = 10\n",
    "    #ts = large_image.getTileSource(slidePath)\n",
    "    # compute colorspace statistics (mean, variance) for whole slide\n",
    "wsi_mean, wsi_stddev = htk_cnorm.reinhard_stats(inputSlidePath, sample_fraction, analysis_mag)"
   ]
  },
  {
   "cell_type": "code",
   "execution_count": 18,
   "metadata": {},
   "outputs": [],
   "source": [
    "im_fgnd_mask_lres, fgnd_seg_scale = cli_utils.segment_wsi_foreground_at_low_res(ts)"
   ]
  },
  {
   "cell_type": "code",
   "execution_count": 19,
   "metadata": {},
   "outputs": [],
   "source": [
    "analysis_tile_size = 2048\n",
    "analysis_mag = 10\n",
    "it_kwargs = {\n",
    "        'tile_size': {'width': analysis_tile_size},\n",
    "        'scale': {'magnification': analysis_mag},\n",
    "}"
   ]
  },
  {
   "cell_type": "code",
   "execution_count": 21,
   "metadata": {},
   "outputs": [],
   "source": [
    "tile_fgnd_frac_list = htk_utils.compute_tile_foreground_fraction(\n",
    "        inputSlidePath, im_fgnd_mask_lres, fgnd_seg_scale,\n",
    "        **it_kwargs\n",
    "    )"
   ]
  },
  {
   "cell_type": "code",
   "execution_count": 23,
   "metadata": {},
   "outputs": [],
   "source": [
    "tile_result_list = []\n",
    "min_fgnd_frac = 0.001"
   ]
  },
  {
   "cell_type": "code",
   "execution_count": 25,
   "metadata": {},
   "outputs": [],
   "source": [
    "for tile in ts.tileIterator(**it_kwargs):\n",
    "        tile_position = tile['tile_position']['position']\n",
    "        if tile_fgnd_frac_list[tile_position] <= min_fgnd_frac:\n",
    "            continue\n",
    "\n",
    "        # detect superpixel data\n",
    "        cur_result = dask.delayed(compute_superpixel_data)(\n",
    "            inputSlidePath,\n",
    "            tile_position,\n",
    "            wsi_mean, wsi_stddev)\n",
    "\n",
    "        # append result to list\n",
    "        tile_result_list.append(cur_result)"
   ]
  },
  {
   "cell_type": "code",
   "execution_count": 26,
   "metadata": {},
   "outputs": [],
   "source": [
    "tile_result_list = dask.delayed(tile_result_list).compute()"
   ]
  },
  {
   "cell_type": "code",
   "execution_count": 30,
   "metadata": {},
   "outputs": [],
   "source": [
    "superpixel_data = []\n",
    "x_centroids = []\n",
    "y_centroids = []\n",
    "\n",
    "\n",
    "for s_data, x_cent, y_cent in tile_result_list:\n",
    "        for s_d in s_data:\n",
    "            superpixel_data.append(s_d)\n",
    "        for x_c in x_cent:\n",
    "            x_centroids.append(x_c)\n",
    "        for y_c in y_cent:\n",
    "            y_centroids.append(y_c)\n",
    "\n",
    "superpixel_data = np.asarray(superpixel_data, dtype=np.float32)"
   ]
  },
  {
   "cell_type": "code",
   "execution_count": 31,
   "metadata": {},
   "outputs": [],
   "source": [
    "n_superpixels = len(superpixel_data)\n",
    "x_centroids = np.asarray(x_centroids).reshape((n_superpixels, 1))\n",
    "y_centroids = np.asarray(y_centroids).reshape((n_superpixels, 1))"
   ]
  },
  {
   "cell_type": "code",
   "execution_count": 36,
   "metadata": {},
   "outputs": [
    {
     "name": "stdout",
     "output_type": "stream",
     "text": [
      ">> Writing superpixel data information\n"
     ]
    }
   ],
   "source": [
    "print('>> Writing superpixel data information')\n",
    "output = h5py.File('spixelresults1', 'w')\n",
    "output.create_dataset('features', data=superpixel_data)\n",
    "output.create_dataset('x_centroid', data=x_centroids)\n",
    "output.create_dataset('y_centroid', data=y_centroids)\n",
    "output.close()"
   ]
  },
  {
   "cell_type": "code",
   "execution_count": null,
   "metadata": {},
   "outputs": [],
   "source": []
  }
 ],
 "metadata": {
  "kernelspec": {
   "display_name": "SPixel",
   "language": "python",
   "name": "spixel"
  },
  "language_info": {
   "codemirror_mode": {
    "name": "ipython",
    "version": 2
   },
   "file_extension": ".py",
   "mimetype": "text/x-python",
   "name": "python",
   "nbconvert_exporter": "python",
   "pygments_lexer": "ipython2",
   "version": "2.7.15"
  }
 },
 "nbformat": 4,
 "nbformat_minor": 2
}
